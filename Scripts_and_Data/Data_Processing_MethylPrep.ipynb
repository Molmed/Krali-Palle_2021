{
 "cells": [
  {
   "cell_type": "markdown",
   "id": "affiliated-platform",
   "metadata": {},
   "source": [
    "# Use methylprep library to extract the beta values matrix\n",
    "\n",
    "# Tip - for faster implementation run on anaconda terminal instead\n",
    "\n",
    "\n",
    "### Outputs in pickle (pkl) format:\n",
    "\n",
    "1. Beta values\n",
    "2. M values\n",
    "3. Uncorrected methylated\n",
    "4. Uncorrected unmethylated\n",
    "5. Normal exponential out of band correction (Noob) methylated\n",
    "6. Noob unmethylated \n",
    "7. poobah p values\n",
    "8. Metadata for the sample sheet\n",
    "9. CSV files for every sample with all 1-6 values\n",
    "\n",
    "\n",
    "The beta values matrix is in form of num CpG probes x num Samples\n",
    "All NA b-values correspond to the b-values that did not pass the cut-off of p-value (0.05)"
   ]
  },
  {
   "cell_type": "markdown",
   "id": "minus-chancellor",
   "metadata": {},
   "source": [
    "# After requesting the data, decompress the data, uncomment and execute the following command:"
   ]
  },
  {
   "cell_type": "code",
   "execution_count": 1,
   "id": "informative-letter",
   "metadata": {},
   "outputs": [],
   "source": [
    "# Do not forget to replace the path with the path of the raw idat files (keep the samplesheet in the same folder)\n",
    "#!python -m methylprep process -d \"../DataRepo/AML_data_UponRequest/\" --betas --uncorrected --export_poobah "
   ]
  },
  {
   "cell_type": "markdown",
   "id": "executive-hypothetical",
   "metadata": {},
   "source": [
    "### If you have your own idat files along with the samplesheet (it can work without but don't forget to use the flag --no_sample_sheet) you can implement a similar workflow as the one will be presented on the next notebooks."
   ]
  }
 ],
 "metadata": {
  "kernelspec": {
   "display_name": "myenv",
   "language": "python",
   "name": "myenv"
  },
  "language_info": {
   "codemirror_mode": {
    "name": "ipython",
    "version": 3
   },
   "file_extension": ".py",
   "mimetype": "text/x-python",
   "name": "python",
   "nbconvert_exporter": "python",
   "pygments_lexer": "ipython3",
   "version": "3.8.5"
  }
 },
 "nbformat": 4,
 "nbformat_minor": 5
}
