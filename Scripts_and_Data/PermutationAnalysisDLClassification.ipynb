{
 "cells": [
  {
   "cell_type": "code",
   "execution_count": 1,
   "metadata": {},
   "outputs": [],
   "source": [
    "import pandas as pd\n",
    "import numpy as np\n",
    "from sklearn.model_selection import train_test_split\n",
    "import matplotlib.pyplot as plt\n",
    "import seaborn as sns\n",
    "import joblib\n",
    "from sklearn.pipeline import Pipeline\n",
    "random_state = 7\n",
    "from sklearn.impute import SimpleImputer, KNNImputer\n",
    "from keras.utils import np_utils\n",
    "from keras.wrappers.scikit_learn import KerasClassifier\n",
    "from keras.models import Sequential\n",
    "from keras.layers import Dense"
   ]
  },
  {
   "cell_type": "code",
   "execution_count": 2,
   "metadata": {},
   "outputs": [],
   "source": [
    "X = joblib.load('./AML_data/meth.pkl')\n",
    "phenodf = joblib.load('./AML_data/pheno.pkl')\n"
   ]
  },
  {
   "cell_type": "code",
   "execution_count": 3,
   "metadata": {},
   "outputs": [
    {
     "data": {
      "text/plain": [
       "1300"
      ]
     },
     "execution_count": 3,
     "metadata": {},
     "output_type": "execute_result"
    }
   ],
   "source": [
    "unionindices = joblib.load('./AML_data/unionindices.pkl')\n",
    "len(unionindices)"
   ]
  },
  {
   "cell_type": "code",
   "execution_count": 4,
   "metadata": {},
   "outputs": [
    {
     "data": {
      "text/plain": [
       "array(['normal', 't(11;19)', nan, 'mono 7', 'inv(16)', 't(9;11)',\n",
       "       'other clon abn', 'other 11q23/MLL', 't(10;11)', '3q21q26',\n",
       "       't(8;21)', 'sole+8', 't(15;17)', 'no result'], dtype=object)"
      ]
     },
     "execution_count": 4,
     "metadata": {},
     "output_type": "execute_result"
    }
   ],
   "source": [
    "phenodf.genotype.unique()"
   ]
  },
  {
   "cell_type": "code",
   "execution_count": 5,
   "metadata": {},
   "outputs": [
    {
     "data": {
      "text/plain": [
       "14"
      ]
     },
     "execution_count": 5,
     "metadata": {},
     "output_type": "execute_result"
    }
   ],
   "source": [
    "len(phenodf.genotype.unique())"
   ]
  },
  {
   "cell_type": "code",
   "execution_count": 6,
   "metadata": {},
   "outputs": [],
   "source": [
    "# Create a new column for genotypes to merge some groups together\n",
    "\n",
    "# Nas, No result and other will form one group"
   ]
  },
  {
   "cell_type": "code",
   "execution_count": 7,
   "metadata": {},
   "outputs": [],
   "source": [
    "mll = ['other 11q23/MLL', 't(9;11)', 't(10;11)','t(11;19)']\n",
    "other = ['normal', 'mono 7', 'inv(16)','other clon abn', '3q21q26', 't(8;21)', 'sole+8', 't(15;17)']"
   ]
  },
  {
   "cell_type": "code",
   "execution_count": 8,
   "metadata": {},
   "outputs": [],
   "source": [
    "finalgenotype = []\n",
    "\n",
    "for data in phenodf.genotype:\n",
    "\n",
    "    if data in mll:\n",
    "        finalgenotype.append('MLL rearranged')\n",
    "        \n",
    "    elif data == 'no result':\n",
    "        finalgenotype.append('No result')\n",
    "        \n",
    "    elif data in other:\n",
    "        finalgenotype.append(data)\n",
    "        \n",
    "    else:\n",
    "        finalgenotype.append('No result')\n",
    "        "
   ]
  },
  {
   "cell_type": "code",
   "execution_count": 9,
   "metadata": {
    "scrolled": true
   },
   "outputs": [
    {
     "data": {
      "text/plain": [
       "['normal',\n",
       " 'MLL rearranged',\n",
       " 'normal',\n",
       " 'No result',\n",
       " 'mono 7',\n",
       " 'inv(16)',\n",
       " 'normal',\n",
       " 'normal',\n",
       " 'MLL rearranged',\n",
       " 'other clon abn',\n",
       " 'other clon abn',\n",
       " 'MLL rearranged',\n",
       " 'normal',\n",
       " 'MLL rearranged',\n",
       " 'MLL rearranged',\n",
       " 'MLL rearranged',\n",
       " 'other clon abn',\n",
       " 'MLL rearranged',\n",
       " 'normal',\n",
       " 'No result',\n",
       " 'MLL rearranged',\n",
       " 'normal',\n",
       " 'MLL rearranged',\n",
       " '3q21q26',\n",
       " 'normal',\n",
       " 'other clon abn',\n",
       " 'other clon abn',\n",
       " 'inv(16)',\n",
       " 'No result',\n",
       " 't(8;21)',\n",
       " 'sole+8',\n",
       " 'sole+8',\n",
       " 'normal',\n",
       " 'normal',\n",
       " 'No result',\n",
       " 'other clon abn',\n",
       " 'mono 7',\n",
       " 't(8;21)',\n",
       " 'normal',\n",
       " 'inv(16)',\n",
       " 'No result',\n",
       " 't(8;21)',\n",
       " 'MLL rearranged',\n",
       " 'MLL rearranged',\n",
       " 'normal',\n",
       " 'No result',\n",
       " 'normal',\n",
       " 't(15;17)',\n",
       " 'No result',\n",
       " 'other clon abn',\n",
       " 'normal',\n",
       " 'other clon abn',\n",
       " 'inv(16)',\n",
       " 'inv(16)',\n",
       " 't(8;21)',\n",
       " 'MLL rearranged',\n",
       " 't(8;21)',\n",
       " 't(8;21)',\n",
       " 'normal',\n",
       " 'normal',\n",
       " 't(8;21)',\n",
       " 't(15;17)',\n",
       " 'No result',\n",
       " 'MLL rearranged',\n",
       " 'MLL rearranged',\n",
       " 'MLL rearranged',\n",
       " 'inv(16)',\n",
       " 'No result',\n",
       " 't(8;21)',\n",
       " 'No result',\n",
       " 'normal',\n",
       " 'MLL rearranged',\n",
       " 'MLL rearranged',\n",
       " 'MLL rearranged',\n",
       " 't(8;21)',\n",
       " 't(8;21)',\n",
       " 'other clon abn',\n",
       " 't(15;17)',\n",
       " 'other clon abn',\n",
       " 't(8;21)',\n",
       " 'other clon abn',\n",
       " 'No result',\n",
       " 't(8;21)',\n",
       " 't(8;21)',\n",
       " 'inv(16)',\n",
       " 'other clon abn',\n",
       " 'other clon abn',\n",
       " 't(8;21)',\n",
       " 'MLL rearranged',\n",
       " 'mono 7',\n",
       " 'No result',\n",
       " 'other clon abn',\n",
       " 'MLL rearranged',\n",
       " 'normal',\n",
       " 'MLL rearranged',\n",
       " 'other clon abn',\n",
       " 'other clon abn',\n",
       " 'inv(16)',\n",
       " 'other clon abn',\n",
       " 'other clon abn',\n",
       " 'inv(16)',\n",
       " 'sole+8',\n",
       " 'other clon abn',\n",
       " 'other clon abn',\n",
       " 'other clon abn',\n",
       " 'other clon abn',\n",
       " 'No result',\n",
       " 't(8;21)',\n",
       " 'other clon abn',\n",
       " 'normal',\n",
       " 'MLL rearranged',\n",
       " 'No result',\n",
       " 'MLL rearranged',\n",
       " 'No result',\n",
       " 'normal',\n",
       " 't(15;17)',\n",
       " 'No result',\n",
       " 'normal',\n",
       " 'mono 7',\n",
       " 't(8;21)',\n",
       " 'inv(16)',\n",
       " 't(8;21)',\n",
       " 'No result',\n",
       " 'MLL rearranged',\n",
       " 'normal',\n",
       " 'normal',\n",
       " 'No result',\n",
       " 'normal',\n",
       " 'normal',\n",
       " 'normal',\n",
       " 'normal',\n",
       " 'No result',\n",
       " 'No result',\n",
       " 't(8;21)',\n",
       " 'inv(16)',\n",
       " 'MLL rearranged',\n",
       " 't(8;21)',\n",
       " 'normal',\n",
       " 'normal',\n",
       " 'inv(16)',\n",
       " 'normal',\n",
       " 'mono 7']"
      ]
     },
     "execution_count": 9,
     "metadata": {},
     "output_type": "execute_result"
    }
   ],
   "source": [
    "finalgenotype"
   ]
  },
  {
   "cell_type": "code",
   "execution_count": 10,
   "metadata": {},
   "outputs": [],
   "source": [
    "phenodf['finalgenotype'] = finalgenotype"
   ]
  },
  {
   "cell_type": "code",
   "execution_count": 11,
   "metadata": {
    "scrolled": false
   },
   "outputs": [
    {
     "data": {
      "text/html": [
       "<div>\n",
       "<style scoped>\n",
       "    .dataframe tbody tr th:only-of-type {\n",
       "        vertical-align: middle;\n",
       "    }\n",
       "\n",
       "    .dataframe tbody tr th {\n",
       "        vertical-align: top;\n",
       "    }\n",
       "\n",
       "    .dataframe thead th {\n",
       "        text-align: right;\n",
       "    }\n",
       "</style>\n",
       "<table border=\"1\" class=\"dataframe\">\n",
       "  <thead>\n",
       "    <tr style=\"text-align: right;\">\n",
       "      <th></th>\n",
       "      <th>genotype</th>\n",
       "      <th>finalgenotype</th>\n",
       "    </tr>\n",
       "    <tr>\n",
       "      <th>public_id</th>\n",
       "      <th></th>\n",
       "      <th></th>\n",
       "    </tr>\n",
       "  </thead>\n",
       "  <tbody>\n",
       "    <tr>\n",
       "      <th>AML_001</th>\n",
       "      <td>normal</td>\n",
       "      <td>normal</td>\n",
       "    </tr>\n",
       "    <tr>\n",
       "      <th>AML_002</th>\n",
       "      <td>t(11;19)</td>\n",
       "      <td>MLL rearranged</td>\n",
       "    </tr>\n",
       "    <tr>\n",
       "      <th>AML_003</th>\n",
       "      <td>normal</td>\n",
       "      <td>normal</td>\n",
       "    </tr>\n",
       "    <tr>\n",
       "      <th>AML_004_r</th>\n",
       "      <td>NaN</td>\n",
       "      <td>No result</td>\n",
       "    </tr>\n",
       "    <tr>\n",
       "      <th>AML_005</th>\n",
       "      <td>mono 7</td>\n",
       "      <td>mono 7</td>\n",
       "    </tr>\n",
       "    <tr>\n",
       "      <th>AML_006</th>\n",
       "      <td>inv(16)</td>\n",
       "      <td>inv(16)</td>\n",
       "    </tr>\n",
       "    <tr>\n",
       "      <th>AML_007</th>\n",
       "      <td>normal</td>\n",
       "      <td>normal</td>\n",
       "    </tr>\n",
       "    <tr>\n",
       "      <th>AML_008</th>\n",
       "      <td>normal</td>\n",
       "      <td>normal</td>\n",
       "    </tr>\n",
       "    <tr>\n",
       "      <th>AML_009</th>\n",
       "      <td>t(9;11)</td>\n",
       "      <td>MLL rearranged</td>\n",
       "    </tr>\n",
       "    <tr>\n",
       "      <th>AML_010</th>\n",
       "      <td>other clon abn</td>\n",
       "      <td>other clon abn</td>\n",
       "    </tr>\n",
       "    <tr>\n",
       "      <th>AML_011</th>\n",
       "      <td>other clon abn</td>\n",
       "      <td>other clon abn</td>\n",
       "    </tr>\n",
       "    <tr>\n",
       "      <th>AML_012</th>\n",
       "      <td>other 11q23/MLL</td>\n",
       "      <td>MLL rearranged</td>\n",
       "    </tr>\n",
       "    <tr>\n",
       "      <th>AML_013</th>\n",
       "      <td>normal</td>\n",
       "      <td>normal</td>\n",
       "    </tr>\n",
       "    <tr>\n",
       "      <th>AML_014</th>\n",
       "      <td>t(10;11)</td>\n",
       "      <td>MLL rearranged</td>\n",
       "    </tr>\n",
       "    <tr>\n",
       "      <th>AML_004</th>\n",
       "      <td>t(11;19)</td>\n",
       "      <td>MLL rearranged</td>\n",
       "    </tr>\n",
       "    <tr>\n",
       "      <th>AML_015</th>\n",
       "      <td>other 11q23/MLL</td>\n",
       "      <td>MLL rearranged</td>\n",
       "    </tr>\n",
       "    <tr>\n",
       "      <th>AML_016</th>\n",
       "      <td>other clon abn</td>\n",
       "      <td>other clon abn</td>\n",
       "    </tr>\n",
       "    <tr>\n",
       "      <th>AML_017</th>\n",
       "      <td>t(9;11)</td>\n",
       "      <td>MLL rearranged</td>\n",
       "    </tr>\n",
       "    <tr>\n",
       "      <th>AML_018</th>\n",
       "      <td>normal</td>\n",
       "      <td>normal</td>\n",
       "    </tr>\n",
       "    <tr>\n",
       "      <th>AML_019_r</th>\n",
       "      <td>NaN</td>\n",
       "      <td>No result</td>\n",
       "    </tr>\n",
       "  </tbody>\n",
       "</table>\n",
       "</div>"
      ],
      "text/plain": [
       "                  genotype   finalgenotype\n",
       "public_id                                 \n",
       "AML_001             normal          normal\n",
       "AML_002           t(11;19)  MLL rearranged\n",
       "AML_003             normal          normal\n",
       "AML_004_r              NaN       No result\n",
       "AML_005             mono 7          mono 7\n",
       "AML_006            inv(16)         inv(16)\n",
       "AML_007             normal          normal\n",
       "AML_008             normal          normal\n",
       "AML_009            t(9;11)  MLL rearranged\n",
       "AML_010     other clon abn  other clon abn\n",
       "AML_011     other clon abn  other clon abn\n",
       "AML_012    other 11q23/MLL  MLL rearranged\n",
       "AML_013             normal          normal\n",
       "AML_014           t(10;11)  MLL rearranged\n",
       "AML_004           t(11;19)  MLL rearranged\n",
       "AML_015    other 11q23/MLL  MLL rearranged\n",
       "AML_016     other clon abn  other clon abn\n",
       "AML_017            t(9;11)  MLL rearranged\n",
       "AML_018             normal          normal\n",
       "AML_019_r              NaN       No result"
      ]
     },
     "execution_count": 11,
     "metadata": {},
     "output_type": "execute_result"
    }
   ],
   "source": [
    "phenodf[['genotype', 'finalgenotype']].head(20)"
   ]
  },
  {
   "cell_type": "code",
   "execution_count": 12,
   "metadata": {},
   "outputs": [
    {
     "data": {
      "text/plain": [
       "10"
      ]
     },
     "execution_count": 12,
     "metadata": {},
     "output_type": "execute_result"
    }
   ],
   "source": [
    "len(phenodf.finalgenotype.unique())"
   ]
  },
  {
   "cell_type": "code",
   "execution_count": 13,
   "metadata": {},
   "outputs": [
    {
     "data": {
      "text/plain": [
       "normal            30\n",
       "MLL rearranged    25\n",
       "other clon abn    23\n",
       "No result         20\n",
       "t(8;21)           19\n",
       "inv(16)           12\n",
       "mono 7             5\n",
       "t(15;17)           4\n",
       "sole+8             3\n",
       "3q21q26            1\n",
       "Name: finalgenotype, dtype: int64"
      ]
     },
     "execution_count": 13,
     "metadata": {},
     "output_type": "execute_result"
    }
   ],
   "source": [
    "phenodf.finalgenotype.value_counts()"
   ]
  },
  {
   "cell_type": "code",
   "execution_count": 14,
   "metadata": {},
   "outputs": [],
   "source": [
    "unknowndf = phenodf[phenodf['finalgenotype'].isin(['No result', 'other clon abn'])]"
   ]
  },
  {
   "cell_type": "code",
   "execution_count": 15,
   "metadata": {},
   "outputs": [],
   "source": [
    "Xun = X[X.index.get_level_values(1).isin(unknowndf.index)]"
   ]
  },
  {
   "cell_type": "code",
   "execution_count": 16,
   "metadata": {},
   "outputs": [],
   "source": [
    "phenodf = phenodf[~phenodf['finalgenotype'].isin(['No result', 'other clon abn'])]"
   ]
  },
  {
   "cell_type": "code",
   "execution_count": 17,
   "metadata": {},
   "outputs": [
    {
     "data": {
      "text/plain": [
       "normal            30\n",
       "MLL rearranged    25\n",
       "t(8;21)           19\n",
       "inv(16)           12\n",
       "mono 7             5\n",
       "t(15;17)           4\n",
       "sole+8             3\n",
       "3q21q26            1\n",
       "Name: finalgenotype, dtype: int64"
      ]
     },
     "execution_count": 17,
     "metadata": {},
     "output_type": "execute_result"
    }
   ],
   "source": [
    "phenodf.finalgenotype.value_counts()"
   ]
  },
  {
   "cell_type": "code",
   "execution_count": 18,
   "metadata": {},
   "outputs": [],
   "source": [
    "X = X[X.index.get_level_values(1).isin(phenodf.index)]"
   ]
  },
  {
   "cell_type": "code",
   "execution_count": 19,
   "metadata": {},
   "outputs": [
    {
     "data": {
      "text/plain": [
       "(99, 406830)"
      ]
     },
     "execution_count": 19,
     "metadata": {},
     "output_type": "execute_result"
    }
   ],
   "source": [
    "X.shape"
   ]
  },
  {
   "cell_type": "code",
   "execution_count": 20,
   "metadata": {},
   "outputs": [
    {
     "name": "stdout",
     "output_type": "stream",
     "text": [
      "(66, 406830) (33, 406830) (66,) (33,)\n"
     ]
    }
   ],
   "source": [
    "Xtrain, Xtest, ytrain, ytest= train_test_split(X, phenodf.finalgenotype, test_size = 0.33, random_state = 6)\n",
    "print(Xtrain.shape, Xtest.shape, ytrain.shape, ytest.shape)"
   ]
  },
  {
   "cell_type": "code",
   "execution_count": 21,
   "metadata": {},
   "outputs": [],
   "source": [
    "Xtrain = Xtrain[unionindices]\n",
    "Xtest = Xtest[unionindices]"
   ]
  },
  {
   "cell_type": "code",
   "execution_count": 22,
   "metadata": {},
   "outputs": [
    {
     "data": {
      "text/plain": [
       "(66, 1300)"
      ]
     },
     "execution_count": 22,
     "metadata": {},
     "output_type": "execute_result"
    }
   ],
   "source": [
    "Xtrain.shape"
   ]
  },
  {
   "cell_type": "code",
   "execution_count": 23,
   "metadata": {},
   "outputs": [
    {
     "data": {
      "text/plain": [
       "(33, 1300)"
      ]
     },
     "execution_count": 23,
     "metadata": {},
     "output_type": "execute_result"
    }
   ],
   "source": [
    "Xtest.shape"
   ]
  },
  {
   "cell_type": "code",
   "execution_count": 24,
   "metadata": {},
   "outputs": [],
   "source": [
    "imp = SimpleImputer(missing_values=np.nan, strategy='median')\n",
    "imp.fit(Xtrain)\n",
    "XtrainN = pd.DataFrame(imp.transform(Xtrain), columns = Xtrain.columns, index = Xtrain.index)\n",
    "XtestN = pd.DataFrame(imp.transform(Xtest), columns = Xtest.columns, index = Xtest.index)\n"
   ]
  },
  {
   "cell_type": "code",
   "execution_count": 25,
   "metadata": {},
   "outputs": [],
   "source": [
    "ytrain = pd.DataFrame(ytrain, columns = ['finalgenotype'], index = ytrain.index)\n",
    "ytest = pd.DataFrame(ytest, columns = ['finalgenotype'], index = ytest.index)\n"
   ]
  },
  {
   "cell_type": "code",
   "execution_count": 26,
   "metadata": {},
   "outputs": [],
   "source": [
    "from sklearn.preprocessing import LabelEncoder"
   ]
  },
  {
   "cell_type": "code",
   "execution_count": 27,
   "metadata": {},
   "outputs": [
    {
     "name": "stderr",
     "output_type": "stream",
     "text": [
      "C:\\Users\\olgkr928\\Anaconda3\\envs\\myenv\\lib\\site-packages\\sklearn\\utils\\validation.py:72: DataConversionWarning: A column-vector y was passed when a 1d array was expected. Please change the shape of y to (n_samples, ), for example using ravel().\n",
      "  return f(**kwargs)\n"
     ]
    }
   ],
   "source": [
    "encoder = LabelEncoder()\n",
    "encoder.fit(ytrain)\n",
    "encoded_ytrain = encoder.transform(ytrain)\n",
    "encoded_ytest = encoder.transform(ytest)\n",
    "\n",
    "dummy_ytrain = np_utils.to_categorical(encoded_ytrain)\n",
    "dummy_yest = np_utils.to_categorical(encoded_ytest)\n"
   ]
  },
  {
   "cell_type": "code",
   "execution_count": 28,
   "metadata": {},
   "outputs": [],
   "source": [
    "ytrain['classes'] = encoded_ytrain\n",
    "ytest['classes'] = encoded_ytest"
   ]
  },
  {
   "cell_type": "code",
   "execution_count": 29,
   "metadata": {
    "scrolled": true
   },
   "outputs": [
    {
     "data": {
      "text/html": [
       "<div>\n",
       "<style scoped>\n",
       "    .dataframe tbody tr th:only-of-type {\n",
       "        vertical-align: middle;\n",
       "    }\n",
       "\n",
       "    .dataframe tbody tr th {\n",
       "        vertical-align: top;\n",
       "    }\n",
       "\n",
       "    .dataframe thead th {\n",
       "        text-align: right;\n",
       "    }\n",
       "</style>\n",
       "<table border=\"1\" class=\"dataframe\">\n",
       "  <thead>\n",
       "    <tr style=\"text-align: right;\">\n",
       "      <th></th>\n",
       "      <th>finalgenotype</th>\n",
       "      <th>classes</th>\n",
       "    </tr>\n",
       "    <tr>\n",
       "      <th>public_id</th>\n",
       "      <th></th>\n",
       "      <th></th>\n",
       "    </tr>\n",
       "  </thead>\n",
       "  <tbody>\n",
       "    <tr>\n",
       "      <th>AML_110</th>\n",
       "      <td>inv(16)</td>\n",
       "      <td>2</td>\n",
       "    </tr>\n",
       "    <tr>\n",
       "      <th>AML_051</th>\n",
       "      <td>inv(16)</td>\n",
       "      <td>2</td>\n",
       "    </tr>\n",
       "    <tr>\n",
       "      <th>AML_100</th>\n",
       "      <td>t(8;21)</td>\n",
       "      <td>7</td>\n",
       "    </tr>\n",
       "    <tr>\n",
       "      <th>AML_015</th>\n",
       "      <td>MLL rearranged</td>\n",
       "      <td>1</td>\n",
       "    </tr>\n",
       "    <tr>\n",
       "      <th>AML_123</th>\n",
       "      <td>inv(16)</td>\n",
       "      <td>2</td>\n",
       "    </tr>\n",
       "    <tr>\n",
       "      <th>...</th>\n",
       "      <td>...</td>\n",
       "      <td>...</td>\n",
       "    </tr>\n",
       "    <tr>\n",
       "      <th>AML_047</th>\n",
       "      <td>t(8;21)</td>\n",
       "      <td>7</td>\n",
       "    </tr>\n",
       "    <tr>\n",
       "      <th>AML_109</th>\n",
       "      <td>mono 7</td>\n",
       "      <td>3</td>\n",
       "    </tr>\n",
       "    <tr>\n",
       "      <th>AML_104</th>\n",
       "      <td>normal</td>\n",
       "      <td>4</td>\n",
       "    </tr>\n",
       "    <tr>\n",
       "      <th>AML_065</th>\n",
       "      <td>normal</td>\n",
       "      <td>4</td>\n",
       "    </tr>\n",
       "    <tr>\n",
       "      <th>AML_014</th>\n",
       "      <td>MLL rearranged</td>\n",
       "      <td>1</td>\n",
       "    </tr>\n",
       "  </tbody>\n",
       "</table>\n",
       "<p>66 rows × 2 columns</p>\n",
       "</div>"
      ],
      "text/plain": [
       "            finalgenotype  classes\n",
       "public_id                         \n",
       "AML_110           inv(16)        2\n",
       "AML_051           inv(16)        2\n",
       "AML_100           t(8;21)        7\n",
       "AML_015    MLL rearranged        1\n",
       "AML_123           inv(16)        2\n",
       "...                   ...      ...\n",
       "AML_047           t(8;21)        7\n",
       "AML_109            mono 7        3\n",
       "AML_104            normal        4\n",
       "AML_065            normal        4\n",
       "AML_014    MLL rearranged        1\n",
       "\n",
       "[66 rows x 2 columns]"
      ]
     },
     "execution_count": 29,
     "metadata": {},
     "output_type": "execute_result"
    }
   ],
   "source": [
    "ytrain"
   ]
  },
  {
   "cell_type": "markdown",
   "metadata": {},
   "source": [
    "### Call the baseline model function defined during training to populate it with the saved pipeline hyperparameters"
   ]
  },
  {
   "cell_type": "code",
   "execution_count": 30,
   "metadata": {},
   "outputs": [],
   "source": [
    "def baseline_model(input_dim = len(unionindices),\n",
    "                   out = len(phenodf.finalgenotype.unique()),\n",
    "                   activation = 'sigmoid',\n",
    "                   dim1 = 100,\n",
    "                   dim2 = 50,\n",
    "                   optimizer = 'rmsprop'):\n",
    "    model = Sequential()\n",
    "    model.add(Dense(dim1, input_dim=input_dim, activation=activation)) \n",
    "    model.add(Dense(dim2, input_dim=dim1, activation=activation))\n",
    "    model.add(Dense(out, activation='softmax'))\n",
    "    model.compile(loss='categorical_crossentropy', optimizer=optimizer, metrics=['accuracy'])\n",
    "    return model"
   ]
  },
  {
   "cell_type": "code",
   "execution_count": 31,
   "metadata": {},
   "outputs": [],
   "source": [
    "from keras.models import load_model\n",
    "# Load the Pipeline & then add the Neural Network Steps\n",
    "\n",
    "bestmodel = joblib.load('./AML_data/sklearn_pipelineDLClassification.pkl')\n",
    "bestmodel.named_steps['NeuralNetwork'].model = load_model('./AML_data/DLSubtype_ClassificationHyperoptAlldata.h5')                      \n",
    "\n"
   ]
  },
  {
   "cell_type": "code",
   "execution_count": 32,
   "metadata": {},
   "outputs": [
    {
     "data": {
      "text/plain": [
       "{'memory': None,\n",
       " 'steps': [('NeuralNetwork',\n",
       "   <tensorflow.python.keras.wrappers.scikit_learn.KerasClassifier at 0x2254959b7f0>)],\n",
       " 'verbose': False,\n",
       " 'NeuralNetwork': <tensorflow.python.keras.wrappers.scikit_learn.KerasClassifier at 0x2254959b7f0>,\n",
       " 'NeuralNetwork__verbose': 1,\n",
       " 'NeuralNetwork__activation': 'sigmoid',\n",
       " 'NeuralNetwork__batch_size': 8,\n",
       " 'NeuralNetwork__dim1': 200,\n",
       " 'NeuralNetwork__epochs': 100,\n",
       " 'NeuralNetwork__build_fn': <function __main__.baseline_model(input_dim=1300, out=8, activation='sigmoid', dim1=100, dim2=50, optimizer='rmsprop')>}"
      ]
     },
     "execution_count": 32,
     "metadata": {},
     "output_type": "execute_result"
    }
   ],
   "source": [
    "bestmodel.get_params()"
   ]
  },
  {
   "cell_type": "markdown",
   "metadata": {},
   "source": [
    "### Permutation Analysis to identify whether the model performs better with real data rather than random generated data to support the hypothesis that there is real dependency between DNA methylation data and cytogenetic subtype"
   ]
  },
  {
   "cell_type": "code",
   "execution_count": 33,
   "metadata": {},
   "outputs": [],
   "source": [
    "from sklearn.model_selection import permutation_test_score"
   ]
  },
  {
   "cell_type": "code",
   "execution_count": 34,
   "metadata": {},
   "outputs": [],
   "source": [
    "# Permutation takes very long time #"
   ]
  },
  {
   "cell_type": "raw",
   "metadata": {},
   "source": [
    "score, perm_scores, pvalue = permutation_test_score(\n",
    "    bestmodel, XtrainN, dummy_ytrain,  n_permutations=1000)"
   ]
  },
  {
   "cell_type": "raw",
   "metadata": {},
   "source": [
    "fig, ax = plt.subplots(figsize = (12, 8))\n",
    "\n",
    "ax.hist(np.abs(perm_scores), bins=20, density=True)\n",
    "ax.axvline(np.abs(score), ls='--', color='r')\n",
    "score_label = f\"p-value: {pvalue:.3f}\"\n",
    "ax.set_title(score_label, fontsize=12)\n",
    "ax.set_xlabel(\"Accuracy score\")\n",
    "_ = ax.set_ylabel(\"Probability\")\n",
    "plt.savefig('PermutationScoresBestClassifierDL.pdf', dpi = 300)\n",
    "plt.show()"
   ]
  },
  {
   "cell_type": "code",
   "execution_count": 35,
   "metadata": {},
   "outputs": [],
   "source": [
    "#joblib.dump([score, perm_scores, pvalue], 'permutationscoresClassificationDL.pkl')"
   ]
  }
 ],
 "metadata": {
  "kernelspec": {
   "display_name": "myenv",
   "language": "python",
   "name": "myenv"
  },
  "language_info": {
   "codemirror_mode": {
    "name": "ipython",
    "version": 3
   },
   "file_extension": ".py",
   "mimetype": "text/x-python",
   "name": "python",
   "nbconvert_exporter": "python",
   "pygments_lexer": "ipython3",
   "version": "3.8.5"
  }
 },
 "nbformat": 4,
 "nbformat_minor": 4
}
