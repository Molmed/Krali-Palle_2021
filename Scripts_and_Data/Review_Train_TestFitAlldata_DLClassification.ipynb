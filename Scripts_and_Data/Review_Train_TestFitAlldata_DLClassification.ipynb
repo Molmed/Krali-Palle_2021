{
 "cells": [
  {
   "cell_type": "code",
   "execution_count": 1,
   "metadata": {},
   "outputs": [],
   "source": [
    "import pandas as pd\n",
    "import numpy as np\n",
    "from sklearn.model_selection import train_test_split\n",
    "import matplotlib.pyplot as plt\n",
    "import seaborn as sns\n",
    "\n",
    "import joblib"
   ]
  },
  {
   "cell_type": "code",
   "execution_count": 2,
   "metadata": {},
   "outputs": [],
   "source": [
    "from sklearn.pipeline import Pipeline\n",
    "random_state = 7\n"
   ]
  },
  {
   "cell_type": "code",
   "execution_count": 3,
   "metadata": {},
   "outputs": [],
   "source": [
    "from sklearn.impute import SimpleImputer, KNNImputer\n",
    "from keras.utils import np_utils\n",
    "from keras.wrappers.scikit_learn import KerasClassifier\n",
    "from keras.models import Sequential\n",
    "from keras.layers import Dense\n",
    "from keras.optimizers import RMSprop\n"
   ]
  },
  {
   "cell_type": "code",
   "execution_count": 4,
   "metadata": {},
   "outputs": [],
   "source": [
    "path = './AML_data/'\n",
    "X = joblib.load('./AML_data/meth.pkl')\n",
    "phenodf = joblib.load('./AML_data/pheno.pkl')\n",
    "\n"
   ]
  },
  {
   "cell_type": "code",
   "execution_count": 5,
   "metadata": {},
   "outputs": [
    {
     "data": {
      "text/plain": [
       "1300"
      ]
     },
     "execution_count": 5,
     "metadata": {},
     "output_type": "execute_result"
    }
   ],
   "source": [
    "unionindices = joblib.load('./AML_data/unionindices.pkl')\n",
    "len(unionindices)"
   ]
  },
  {
   "cell_type": "code",
   "execution_count": 6,
   "metadata": {},
   "outputs": [
    {
     "data": {
      "text/plain": [
       "array(['normal', 't(11;19)', nan, 'mono 7', 'inv(16)', 't(9;11)',\n",
       "       'other clon abn', 'other 11q23/MLL', 't(10;11)', '3q21q26',\n",
       "       't(8;21)', 'sole+8', 't(15;17)', 'no result'], dtype=object)"
      ]
     },
     "execution_count": 6,
     "metadata": {},
     "output_type": "execute_result"
    }
   ],
   "source": [
    "phenodf.genotype.unique()"
   ]
  },
  {
   "cell_type": "code",
   "execution_count": 7,
   "metadata": {},
   "outputs": [
    {
     "data": {
      "text/plain": [
       "14"
      ]
     },
     "execution_count": 7,
     "metadata": {},
     "output_type": "execute_result"
    }
   ],
   "source": [
    "len(phenodf.genotype.unique())"
   ]
  },
  {
   "cell_type": "code",
   "execution_count": 8,
   "metadata": {},
   "outputs": [],
   "source": [
    "mll = ['other 11q23/MLL', 't(9;11)', 't(10;11)','t(11;19)']\n",
    "other = ['normal', 'mono 7', 'inv(16)','other clon abn', '3q21q26', 't(8;21)', 'sole+8', 't(15;17)']"
   ]
  },
  {
   "cell_type": "code",
   "execution_count": 9,
   "metadata": {},
   "outputs": [],
   "source": [
    "finalgenotype = []\n",
    "\n",
    "for data in phenodf.genotype:\n",
    "\n",
    "    if data in mll:\n",
    "        finalgenotype.append('MLL rearranged')\n",
    "        \n",
    "    elif data == 'no result':\n",
    "        finalgenotype.append('No result')\n",
    "        \n",
    "    elif data in other:\n",
    "        finalgenotype.append(data)\n",
    "        \n",
    "    else:\n",
    "        finalgenotype.append('No result')\n",
    "        "
   ]
  },
  {
   "cell_type": "code",
   "execution_count": 10,
   "metadata": {
    "scrolled": true
   },
   "outputs": [
    {
     "data": {
      "text/plain": [
       "['normal',\n",
       " 'MLL rearranged',\n",
       " 'normal',\n",
       " 'No result',\n",
       " 'mono 7',\n",
       " 'inv(16)',\n",
       " 'normal',\n",
       " 'normal',\n",
       " 'MLL rearranged',\n",
       " 'other clon abn',\n",
       " 'other clon abn',\n",
       " 'MLL rearranged',\n",
       " 'normal',\n",
       " 'MLL rearranged',\n",
       " 'MLL rearranged',\n",
       " 'MLL rearranged',\n",
       " 'other clon abn',\n",
       " 'MLL rearranged',\n",
       " 'normal',\n",
       " 'No result',\n",
       " 'MLL rearranged',\n",
       " 'normal',\n",
       " 'MLL rearranged',\n",
       " '3q21q26',\n",
       " 'normal',\n",
       " 'other clon abn',\n",
       " 'other clon abn',\n",
       " 'inv(16)',\n",
       " 'No result',\n",
       " 't(8;21)',\n",
       " 'sole+8',\n",
       " 'sole+8',\n",
       " 'normal',\n",
       " 'normal',\n",
       " 'No result',\n",
       " 'other clon abn',\n",
       " 'mono 7',\n",
       " 't(8;21)',\n",
       " 'normal',\n",
       " 'inv(16)',\n",
       " 'No result',\n",
       " 't(8;21)',\n",
       " 'MLL rearranged',\n",
       " 'MLL rearranged',\n",
       " 'normal',\n",
       " 'No result',\n",
       " 'normal',\n",
       " 't(15;17)',\n",
       " 'No result',\n",
       " 'other clon abn',\n",
       " 'normal',\n",
       " 'other clon abn',\n",
       " 'inv(16)',\n",
       " 'inv(16)',\n",
       " 't(8;21)',\n",
       " 'MLL rearranged',\n",
       " 't(8;21)',\n",
       " 't(8;21)',\n",
       " 'normal',\n",
       " 'normal',\n",
       " 't(8;21)',\n",
       " 't(15;17)',\n",
       " 'No result',\n",
       " 'MLL rearranged',\n",
       " 'MLL rearranged',\n",
       " 'MLL rearranged',\n",
       " 'inv(16)',\n",
       " 'No result',\n",
       " 't(8;21)',\n",
       " 'No result',\n",
       " 'normal',\n",
       " 'MLL rearranged',\n",
       " 'MLL rearranged',\n",
       " 'MLL rearranged',\n",
       " 't(8;21)',\n",
       " 't(8;21)',\n",
       " 'other clon abn',\n",
       " 't(15;17)',\n",
       " 'other clon abn',\n",
       " 't(8;21)',\n",
       " 'other clon abn',\n",
       " 'No result',\n",
       " 't(8;21)',\n",
       " 't(8;21)',\n",
       " 'inv(16)',\n",
       " 'other clon abn',\n",
       " 'other clon abn',\n",
       " 't(8;21)',\n",
       " 'MLL rearranged',\n",
       " 'mono 7',\n",
       " 'No result',\n",
       " 'other clon abn',\n",
       " 'MLL rearranged',\n",
       " 'normal',\n",
       " 'MLL rearranged',\n",
       " 'other clon abn',\n",
       " 'other clon abn',\n",
       " 'inv(16)',\n",
       " 'other clon abn',\n",
       " 'other clon abn',\n",
       " 'inv(16)',\n",
       " 'sole+8',\n",
       " 'other clon abn',\n",
       " 'other clon abn',\n",
       " 'other clon abn',\n",
       " 'other clon abn',\n",
       " 'No result',\n",
       " 't(8;21)',\n",
       " 'other clon abn',\n",
       " 'normal',\n",
       " 'MLL rearranged',\n",
       " 'No result',\n",
       " 'MLL rearranged',\n",
       " 'No result',\n",
       " 'normal',\n",
       " 't(15;17)',\n",
       " 'No result',\n",
       " 'normal',\n",
       " 'mono 7',\n",
       " 't(8;21)',\n",
       " 'inv(16)',\n",
       " 't(8;21)',\n",
       " 'No result',\n",
       " 'MLL rearranged',\n",
       " 'normal',\n",
       " 'normal',\n",
       " 'No result',\n",
       " 'normal',\n",
       " 'normal',\n",
       " 'normal',\n",
       " 'normal',\n",
       " 'No result',\n",
       " 'No result',\n",
       " 't(8;21)',\n",
       " 'inv(16)',\n",
       " 'MLL rearranged',\n",
       " 't(8;21)',\n",
       " 'normal',\n",
       " 'normal',\n",
       " 'inv(16)',\n",
       " 'normal',\n",
       " 'mono 7']"
      ]
     },
     "execution_count": 10,
     "metadata": {},
     "output_type": "execute_result"
    }
   ],
   "source": [
    "finalgenotype"
   ]
  },
  {
   "cell_type": "code",
   "execution_count": 11,
   "metadata": {},
   "outputs": [],
   "source": [
    "phenodf['finalgenotype'] = finalgenotype"
   ]
  },
  {
   "cell_type": "code",
   "execution_count": 12,
   "metadata": {
    "scrolled": false
   },
   "outputs": [
    {
     "data": {
      "text/html": [
       "<div>\n",
       "<style scoped>\n",
       "    .dataframe tbody tr th:only-of-type {\n",
       "        vertical-align: middle;\n",
       "    }\n",
       "\n",
       "    .dataframe tbody tr th {\n",
       "        vertical-align: top;\n",
       "    }\n",
       "\n",
       "    .dataframe thead th {\n",
       "        text-align: right;\n",
       "    }\n",
       "</style>\n",
       "<table border=\"1\" class=\"dataframe\">\n",
       "  <thead>\n",
       "    <tr style=\"text-align: right;\">\n",
       "      <th></th>\n",
       "      <th>genotype</th>\n",
       "      <th>finalgenotype</th>\n",
       "    </tr>\n",
       "    <tr>\n",
       "      <th>public_id</th>\n",
       "      <th></th>\n",
       "      <th></th>\n",
       "    </tr>\n",
       "  </thead>\n",
       "  <tbody>\n",
       "    <tr>\n",
       "      <th>AML_001</th>\n",
       "      <td>normal</td>\n",
       "      <td>normal</td>\n",
       "    </tr>\n",
       "    <tr>\n",
       "      <th>AML_002</th>\n",
       "      <td>t(11;19)</td>\n",
       "      <td>MLL rearranged</td>\n",
       "    </tr>\n",
       "    <tr>\n",
       "      <th>AML_003</th>\n",
       "      <td>normal</td>\n",
       "      <td>normal</td>\n",
       "    </tr>\n",
       "    <tr>\n",
       "      <th>AML_004_r</th>\n",
       "      <td>NaN</td>\n",
       "      <td>No result</td>\n",
       "    </tr>\n",
       "    <tr>\n",
       "      <th>AML_005</th>\n",
       "      <td>mono 7</td>\n",
       "      <td>mono 7</td>\n",
       "    </tr>\n",
       "    <tr>\n",
       "      <th>AML_006</th>\n",
       "      <td>inv(16)</td>\n",
       "      <td>inv(16)</td>\n",
       "    </tr>\n",
       "    <tr>\n",
       "      <th>AML_007</th>\n",
       "      <td>normal</td>\n",
       "      <td>normal</td>\n",
       "    </tr>\n",
       "    <tr>\n",
       "      <th>AML_008</th>\n",
       "      <td>normal</td>\n",
       "      <td>normal</td>\n",
       "    </tr>\n",
       "    <tr>\n",
       "      <th>AML_009</th>\n",
       "      <td>t(9;11)</td>\n",
       "      <td>MLL rearranged</td>\n",
       "    </tr>\n",
       "    <tr>\n",
       "      <th>AML_010</th>\n",
       "      <td>other clon abn</td>\n",
       "      <td>other clon abn</td>\n",
       "    </tr>\n",
       "    <tr>\n",
       "      <th>AML_011</th>\n",
       "      <td>other clon abn</td>\n",
       "      <td>other clon abn</td>\n",
       "    </tr>\n",
       "    <tr>\n",
       "      <th>AML_012</th>\n",
       "      <td>other 11q23/MLL</td>\n",
       "      <td>MLL rearranged</td>\n",
       "    </tr>\n",
       "    <tr>\n",
       "      <th>AML_013</th>\n",
       "      <td>normal</td>\n",
       "      <td>normal</td>\n",
       "    </tr>\n",
       "    <tr>\n",
       "      <th>AML_014</th>\n",
       "      <td>t(10;11)</td>\n",
       "      <td>MLL rearranged</td>\n",
       "    </tr>\n",
       "    <tr>\n",
       "      <th>AML_004</th>\n",
       "      <td>t(11;19)</td>\n",
       "      <td>MLL rearranged</td>\n",
       "    </tr>\n",
       "    <tr>\n",
       "      <th>AML_015</th>\n",
       "      <td>other 11q23/MLL</td>\n",
       "      <td>MLL rearranged</td>\n",
       "    </tr>\n",
       "    <tr>\n",
       "      <th>AML_016</th>\n",
       "      <td>other clon abn</td>\n",
       "      <td>other clon abn</td>\n",
       "    </tr>\n",
       "    <tr>\n",
       "      <th>AML_017</th>\n",
       "      <td>t(9;11)</td>\n",
       "      <td>MLL rearranged</td>\n",
       "    </tr>\n",
       "    <tr>\n",
       "      <th>AML_018</th>\n",
       "      <td>normal</td>\n",
       "      <td>normal</td>\n",
       "    </tr>\n",
       "    <tr>\n",
       "      <th>AML_019_r</th>\n",
       "      <td>NaN</td>\n",
       "      <td>No result</td>\n",
       "    </tr>\n",
       "  </tbody>\n",
       "</table>\n",
       "</div>"
      ],
      "text/plain": [
       "                  genotype   finalgenotype\n",
       "public_id                                 \n",
       "AML_001             normal          normal\n",
       "AML_002           t(11;19)  MLL rearranged\n",
       "AML_003             normal          normal\n",
       "AML_004_r              NaN       No result\n",
       "AML_005             mono 7          mono 7\n",
       "AML_006            inv(16)         inv(16)\n",
       "AML_007             normal          normal\n",
       "AML_008             normal          normal\n",
       "AML_009            t(9;11)  MLL rearranged\n",
       "AML_010     other clon abn  other clon abn\n",
       "AML_011     other clon abn  other clon abn\n",
       "AML_012    other 11q23/MLL  MLL rearranged\n",
       "AML_013             normal          normal\n",
       "AML_014           t(10;11)  MLL rearranged\n",
       "AML_004           t(11;19)  MLL rearranged\n",
       "AML_015    other 11q23/MLL  MLL rearranged\n",
       "AML_016     other clon abn  other clon abn\n",
       "AML_017            t(9;11)  MLL rearranged\n",
       "AML_018             normal          normal\n",
       "AML_019_r              NaN       No result"
      ]
     },
     "execution_count": 12,
     "metadata": {},
     "output_type": "execute_result"
    }
   ],
   "source": [
    "phenodf[['genotype', 'finalgenotype']].head(20)"
   ]
  },
  {
   "cell_type": "code",
   "execution_count": 13,
   "metadata": {},
   "outputs": [
    {
     "data": {
      "text/plain": [
       "10"
      ]
     },
     "execution_count": 13,
     "metadata": {},
     "output_type": "execute_result"
    }
   ],
   "source": [
    "len(phenodf.finalgenotype.unique())"
   ]
  },
  {
   "cell_type": "code",
   "execution_count": 14,
   "metadata": {},
   "outputs": [
    {
     "data": {
      "text/plain": [
       "normal            30\n",
       "MLL rearranged    25\n",
       "other clon abn    23\n",
       "No result         20\n",
       "t(8;21)           19\n",
       "inv(16)           12\n",
       "mono 7             5\n",
       "t(15;17)           4\n",
       "sole+8             3\n",
       "3q21q26            1\n",
       "Name: finalgenotype, dtype: int64"
      ]
     },
     "execution_count": 14,
     "metadata": {},
     "output_type": "execute_result"
    }
   ],
   "source": [
    "phenodf.finalgenotype.value_counts()"
   ]
  },
  {
   "cell_type": "code",
   "execution_count": 15,
   "metadata": {},
   "outputs": [],
   "source": [
    "unknowndf = phenodf[phenodf['finalgenotype'].isin(['No result', 'other clon abn'])]"
   ]
  },
  {
   "cell_type": "code",
   "execution_count": 16,
   "metadata": {},
   "outputs": [],
   "source": [
    "Xun = X[X.index.get_level_values(1).isin(unknowndf.index)]"
   ]
  },
  {
   "cell_type": "code",
   "execution_count": 17,
   "metadata": {},
   "outputs": [
    {
     "data": {
      "text/plain": [
       "43"
      ]
     },
     "execution_count": 17,
     "metadata": {},
     "output_type": "execute_result"
    }
   ],
   "source": [
    "sum(Xun.index.get_level_values(1)==unknowndf.index)"
   ]
  },
  {
   "cell_type": "code",
   "execution_count": 18,
   "metadata": {},
   "outputs": [],
   "source": [
    "phenodf = phenodf[~phenodf['finalgenotype'].isin(['No result', 'other clon abn'])]"
   ]
  },
  {
   "cell_type": "code",
   "execution_count": 19,
   "metadata": {},
   "outputs": [
    {
     "data": {
      "text/plain": [
       "normal            30\n",
       "MLL rearranged    25\n",
       "t(8;21)           19\n",
       "inv(16)           12\n",
       "mono 7             5\n",
       "t(15;17)           4\n",
       "sole+8             3\n",
       "3q21q26            1\n",
       "Name: finalgenotype, dtype: int64"
      ]
     },
     "execution_count": 19,
     "metadata": {},
     "output_type": "execute_result"
    }
   ],
   "source": [
    "phenodf.finalgenotype.value_counts()"
   ]
  },
  {
   "cell_type": "code",
   "execution_count": 20,
   "metadata": {},
   "outputs": [],
   "source": [
    "X = X[X.index.get_level_values(1).isin(phenodf.index)]"
   ]
  },
  {
   "cell_type": "code",
   "execution_count": 21,
   "metadata": {},
   "outputs": [
    {
     "data": {
      "text/plain": [
       "(99, 406830)"
      ]
     },
     "execution_count": 21,
     "metadata": {},
     "output_type": "execute_result"
    }
   ],
   "source": [
    "X.shape"
   ]
  },
  {
   "cell_type": "code",
   "execution_count": 22,
   "metadata": {},
   "outputs": [
    {
     "data": {
      "text/plain": [
       "99"
      ]
     },
     "execution_count": 22,
     "metadata": {},
     "output_type": "execute_result"
    }
   ],
   "source": [
    "sum(X.index.get_level_values(1)==phenodf.index)"
   ]
  },
  {
   "cell_type": "code",
   "execution_count": 23,
   "metadata": {},
   "outputs": [],
   "source": [
    "X = X[unionindices]"
   ]
  },
  {
   "cell_type": "code",
   "execution_count": 24,
   "metadata": {},
   "outputs": [
    {
     "data": {
      "text/plain": [
       "(99, 1300)"
      ]
     },
     "execution_count": 24,
     "metadata": {},
     "output_type": "execute_result"
    }
   ],
   "source": [
    "X.shape"
   ]
  },
  {
   "cell_type": "code",
   "execution_count": 25,
   "metadata": {},
   "outputs": [],
   "source": [
    "imp = SimpleImputer(missing_values=np.nan, strategy='median')\n",
    "imp.fit(X)\n",
    "XN = pd.DataFrame(imp.transform(X), columns = X.columns, index = X.index)\n",
    "\n"
   ]
  },
  {
   "cell_type": "code",
   "execution_count": 26,
   "metadata": {},
   "outputs": [],
   "source": [
    "y = pd.DataFrame(phenodf.finalgenotype, columns = ['finalgenotype'], index = phenodf.index)\n",
    "\n"
   ]
  },
  {
   "cell_type": "code",
   "execution_count": 27,
   "metadata": {},
   "outputs": [
    {
     "data": {
      "text/plain": [
       "99"
      ]
     },
     "execution_count": 27,
     "metadata": {},
     "output_type": "execute_result"
    }
   ],
   "source": [
    "sum(XN.index.get_level_values(1)==y.index)"
   ]
  },
  {
   "cell_type": "code",
   "execution_count": 28,
   "metadata": {},
   "outputs": [],
   "source": [
    "from sklearn.preprocessing import LabelEncoder"
   ]
  },
  {
   "cell_type": "code",
   "execution_count": 29,
   "metadata": {},
   "outputs": [
    {
     "name": "stderr",
     "output_type": "stream",
     "text": [
      "C:\\Users\\olgkr928\\Anaconda3\\envs\\myenv\\lib\\site-packages\\sklearn\\utils\\validation.py:72: DataConversionWarning: A column-vector y was passed when a 1d array was expected. Please change the shape of y to (n_samples, ), for example using ravel().\n",
      "  return f(**kwargs)\n"
     ]
    }
   ],
   "source": [
    "encoder = LabelEncoder()\n",
    "encoder.fit(y)\n",
    "encoded_y = encoder.transform(y)\n",
    "dummy_y = np_utils.to_categorical(encoded_y)\n"
   ]
  },
  {
   "cell_type": "code",
   "execution_count": 30,
   "metadata": {},
   "outputs": [
    {
     "data": {
      "text/html": [
       "<div>\n",
       "<style scoped>\n",
       "    .dataframe tbody tr th:only-of-type {\n",
       "        vertical-align: middle;\n",
       "    }\n",
       "\n",
       "    .dataframe tbody tr th {\n",
       "        vertical-align: top;\n",
       "    }\n",
       "\n",
       "    .dataframe thead th {\n",
       "        text-align: right;\n",
       "    }\n",
       "</style>\n",
       "<table border=\"1\" class=\"dataframe\">\n",
       "  <thead>\n",
       "    <tr style=\"text-align: right;\">\n",
       "      <th></th>\n",
       "      <th>finalgenotype</th>\n",
       "      <th>classes</th>\n",
       "    </tr>\n",
       "    <tr>\n",
       "      <th>public_id</th>\n",
       "      <th></th>\n",
       "      <th></th>\n",
       "    </tr>\n",
       "  </thead>\n",
       "  <tbody>\n",
       "    <tr>\n",
       "      <th>AML_001</th>\n",
       "      <td>normal</td>\n",
       "      <td>4</td>\n",
       "    </tr>\n",
       "    <tr>\n",
       "      <th>AML_002</th>\n",
       "      <td>MLL rearranged</td>\n",
       "      <td>1</td>\n",
       "    </tr>\n",
       "    <tr>\n",
       "      <th>AML_003</th>\n",
       "      <td>normal</td>\n",
       "      <td>4</td>\n",
       "    </tr>\n",
       "    <tr>\n",
       "      <th>AML_005</th>\n",
       "      <td>mono 7</td>\n",
       "      <td>3</td>\n",
       "    </tr>\n",
       "    <tr>\n",
       "      <th>AML_006</th>\n",
       "      <td>inv(16)</td>\n",
       "      <td>2</td>\n",
       "    </tr>\n",
       "    <tr>\n",
       "      <th>...</th>\n",
       "      <td>...</td>\n",
       "      <td>...</td>\n",
       "    </tr>\n",
       "    <tr>\n",
       "      <th>AML_122</th>\n",
       "      <td>normal</td>\n",
       "      <td>4</td>\n",
       "    </tr>\n",
       "    <tr>\n",
       "      <th>AML_033</th>\n",
       "      <td>normal</td>\n",
       "      <td>4</td>\n",
       "    </tr>\n",
       "    <tr>\n",
       "      <th>AML_123</th>\n",
       "      <td>inv(16)</td>\n",
       "      <td>2</td>\n",
       "    </tr>\n",
       "    <tr>\n",
       "      <th>AML_124</th>\n",
       "      <td>normal</td>\n",
       "      <td>4</td>\n",
       "    </tr>\n",
       "    <tr>\n",
       "      <th>AML_125</th>\n",
       "      <td>mono 7</td>\n",
       "      <td>3</td>\n",
       "    </tr>\n",
       "  </tbody>\n",
       "</table>\n",
       "<p>99 rows × 2 columns</p>\n",
       "</div>"
      ],
      "text/plain": [
       "            finalgenotype  classes\n",
       "public_id                         \n",
       "AML_001            normal        4\n",
       "AML_002    MLL rearranged        1\n",
       "AML_003            normal        4\n",
       "AML_005            mono 7        3\n",
       "AML_006           inv(16)        2\n",
       "...                   ...      ...\n",
       "AML_122            normal        4\n",
       "AML_033            normal        4\n",
       "AML_123           inv(16)        2\n",
       "AML_124            normal        4\n",
       "AML_125            mono 7        3\n",
       "\n",
       "[99 rows x 2 columns]"
      ]
     },
     "execution_count": 30,
     "metadata": {},
     "output_type": "execute_result"
    }
   ],
   "source": [
    "y['classes'] = encoded_y\n",
    "y"
   ]
  },
  {
   "cell_type": "code",
   "execution_count": 31,
   "metadata": {},
   "outputs": [],
   "source": [
    "def baseline_model(input_dim = len(unionindices),\n",
    "                   out = len(phenodf.finalgenotype.unique()),\n",
    "                   activation = 'sigmoid',\n",
    "                   dim1 = 100,\n",
    "                   dim2 = 50,\n",
    "                   optimizer = 'rmsprop'):\n",
    "    model = Sequential()\n",
    "    model.add(Dense(dim1, input_dim=input_dim, activation=activation)) \n",
    "    model.add(Dense(dim2, input_dim=dim1, activation=activation))\n",
    "    model.add(Dense(out, activation='softmax'))\n",
    "    model.compile(loss='categorical_crossentropy', optimizer=optimizer, metrics=['accuracy'])\n",
    "    return model"
   ]
  },
  {
   "cell_type": "code",
   "execution_count": 32,
   "metadata": {},
   "outputs": [],
   "source": [
    "from keras.models import load_model\n",
    "# # # Instantiate the model as you please (we are not going to use this)\n",
    "\n",
    "bestmodel = joblib.load('./AML_data/sklearn_pipelineDLClassificationFITTED.pkl')\n",
    "bestmodel.named_steps['NeuralNetwork'].model = load_model('./AML_data/DLSubtype_ClassificationHyperoptAlldataFITTED.h5')                      \n",
    "\n"
   ]
  },
  {
   "cell_type": "code",
   "execution_count": 33,
   "metadata": {},
   "outputs": [
    {
     "data": {
      "text/plain": [
       "{'memory': None,\n",
       " 'steps': [('NeuralNetwork',\n",
       "   <tensorflow.python.keras.wrappers.scikit_learn.KerasClassifier at 0x26ddc907cd0>)],\n",
       " 'verbose': False,\n",
       " 'NeuralNetwork': <tensorflow.python.keras.wrappers.scikit_learn.KerasClassifier at 0x26ddc907cd0>,\n",
       " 'NeuralNetwork__verbose': 1,\n",
       " 'NeuralNetwork__activation': 'sigmoid',\n",
       " 'NeuralNetwork__batch_size': 8,\n",
       " 'NeuralNetwork__dim1': 200,\n",
       " 'NeuralNetwork__epochs': 100,\n",
       " 'NeuralNetwork__build_fn': <function __main__.baseline_model(input_dim=1300, out=8, activation='sigmoid', dim1=100, dim2=50, optimizer='rmsprop')>}"
      ]
     },
     "execution_count": 33,
     "metadata": {},
     "output_type": "execute_result"
    }
   ],
   "source": [
    "bestmodel.get_params()"
   ]
  },
  {
   "cell_type": "code",
   "execution_count": 34,
   "metadata": {},
   "outputs": [],
   "source": [
    "from sklearn.metrics import accuracy_score, f1_score, plot_confusion_matrix, roc_curve, auc, confusion_matrix, precision_score"
   ]
  },
  {
   "cell_type": "markdown",
   "metadata": {},
   "source": [
    "# Fit on all training data"
   ]
  },
  {
   "cell_type": "code",
   "execution_count": 35,
   "metadata": {
    "scrolled": true
   },
   "outputs": [
    {
     "name": "stdout",
     "output_type": "stream",
     "text": [
      "Epoch 1/100\n",
      "13/13 [==============================] - 0s 2ms/step - loss: 1.8870 - accuracy: 0.3492\n",
      "Epoch 2/100\n",
      "13/13 [==============================] - 0s 1ms/step - loss: 1.2347 - accuracy: 0.6677\n",
      "Epoch 3/100\n",
      "13/13 [==============================] - 0s 2ms/step - loss: 1.0169 - accuracy: 0.8842\n",
      "Epoch 4/100\n",
      "13/13 [==============================] - 0s 2ms/step - loss: 0.9681 - accuracy: 0.7792\n",
      "Epoch 5/100\n",
      "13/13 [==============================] - 0s 2ms/step - loss: 0.7894 - accuracy: 0.8136\n",
      "Epoch 6/100\n",
      "13/13 [==============================] - 0s 2ms/step - loss: 0.7555 - accuracy: 0.7814\n",
      "Epoch 7/100\n",
      "13/13 [==============================] - 0s 2ms/step - loss: 0.6235 - accuracy: 0.8361\n",
      "Epoch 8/100\n",
      "13/13 [==============================] - 0s 2ms/step - loss: 0.5646 - accuracy: 0.8215\n",
      "Epoch 9/100\n",
      "13/13 [==============================] - 0s 2ms/step - loss: 0.4657 - accuracy: 0.8765\n",
      "Epoch 10/100\n",
      "13/13 [==============================] - 0s 2ms/step - loss: 0.5205 - accuracy: 0.8608\n",
      "Epoch 11/100\n",
      "13/13 [==============================] - 0s 1ms/step - loss: 0.4433 - accuracy: 0.8759\n",
      "Epoch 12/100\n",
      "13/13 [==============================] - 0s 2ms/step - loss: 0.5694 - accuracy: 0.8209\n",
      "Epoch 13/100\n",
      "13/13 [==============================] - 0s 2ms/step - loss: 0.3605 - accuracy: 0.9352\n",
      "Epoch 14/100\n",
      "13/13 [==============================] - 0s 2ms/step - loss: 0.3192 - accuracy: 0.9190\n",
      "Epoch 15/100\n",
      "13/13 [==============================] - 0s 2ms/step - loss: 0.3661 - accuracy: 0.9191\n",
      "Epoch 16/100\n",
      "13/13 [==============================] - 0s 1ms/step - loss: 0.2283 - accuracy: 0.9441\n",
      "Epoch 17/100\n",
      "13/13 [==============================] - 0s 2ms/step - loss: 0.2603 - accuracy: 0.9465\n",
      "Epoch 18/100\n",
      "13/13 [==============================] - 0s 1ms/step - loss: 0.2478 - accuracy: 0.9603\n",
      "Epoch 19/100\n",
      "13/13 [==============================] - 0s 2ms/step - loss: 0.3073 - accuracy: 0.9115\n",
      "Epoch 20/100\n",
      "13/13 [==============================] - 0s 2ms/step - loss: 0.1198 - accuracy: 0.9939\n",
      "Epoch 21/100\n",
      "13/13 [==============================] - 0s 2ms/step - loss: 0.1244 - accuracy: 0.9905\n",
      "Epoch 22/100\n",
      "13/13 [==============================] - 0s 2ms/step - loss: 0.1659 - accuracy: 0.9715\n",
      "Epoch 23/100\n",
      "13/13 [==============================] - 0s 2ms/step - loss: 0.1371 - accuracy: 0.9842\n",
      "Epoch 24/100\n",
      "13/13 [==============================] - 0s 2ms/step - loss: 0.1013 - accuracy: 0.9679\n",
      "Epoch 25/100\n",
      "13/13 [==============================] - 0s 1ms/step - loss: 0.0727 - accuracy: 0.9940\n",
      "Epoch 26/100\n",
      "13/13 [==============================] - 0s 2ms/step - loss: 0.0752 - accuracy: 0.9852\n",
      "Epoch 27/100\n",
      "13/13 [==============================] - 0s 2ms/step - loss: 0.0714 - accuracy: 0.9798\n",
      "Epoch 28/100\n",
      "13/13 [==============================] - 0s 1ms/step - loss: 0.0759 - accuracy: 0.9878\n",
      "Epoch 29/100\n",
      "13/13 [==============================] - 0s 2ms/step - loss: 0.1303 - accuracy: 0.9679\n",
      "Epoch 30/100\n",
      "13/13 [==============================] - 0s 1ms/step - loss: 0.0396 - accuracy: 1.0000\n",
      "Epoch 31/100\n",
      "13/13 [==============================] - 0s 2ms/step - loss: 0.0381 - accuracy: 1.0000\n",
      "Epoch 32/100\n",
      "13/13 [==============================] - 0s 2ms/step - loss: 0.0374 - accuracy: 1.0000\n",
      "Epoch 33/100\n",
      "13/13 [==============================] - 0s 2ms/step - loss: 0.0425 - accuracy: 1.0000\n",
      "Epoch 34/100\n",
      "13/13 [==============================] - 0s 2ms/step - loss: 0.0236 - accuracy: 1.0000\n",
      "Epoch 35/100\n",
      "13/13 [==============================] - 0s 2ms/step - loss: 0.0223 - accuracy: 1.0000\n",
      "Epoch 36/100\n",
      "13/13 [==============================] - 0s 2ms/step - loss: 0.0261 - accuracy: 1.0000\n",
      "Epoch 37/100\n",
      "13/13 [==============================] - 0s 2ms/step - loss: 0.0203 - accuracy: 1.0000\n",
      "Epoch 38/100\n",
      "13/13 [==============================] - 0s 2ms/step - loss: 0.0181 - accuracy: 1.0000\n",
      "Epoch 39/100\n",
      "13/13 [==============================] - 0s 2ms/step - loss: 0.0109 - accuracy: 1.0000\n",
      "Epoch 40/100\n",
      "13/13 [==============================] - 0s 2ms/step - loss: 0.0130 - accuracy: 1.0000\n",
      "Epoch 41/100\n",
      "13/13 [==============================] - 0s 2ms/step - loss: 0.0102 - accuracy: 1.0000\n",
      "Epoch 42/100\n",
      "13/13 [==============================] - 0s 2ms/step - loss: 0.0133 - accuracy: 0.9986\n",
      "Epoch 43/100\n",
      "13/13 [==============================] - 0s 2ms/step - loss: 0.0175 - accuracy: 1.0000\n",
      "Epoch 44/100\n",
      "13/13 [==============================] - 0s 2ms/step - loss: 0.0060 - accuracy: 1.0000\n",
      "Epoch 45/100\n",
      "13/13 [==============================] - 0s 2ms/step - loss: 0.0070 - accuracy: 1.0000\n",
      "Epoch 46/100\n",
      "13/13 [==============================] - 0s 2ms/step - loss: 0.0091 - accuracy: 1.0000\n",
      "Epoch 47/100\n",
      "13/13 [==============================] - 0s 2ms/step - loss: 0.0042 - accuracy: 1.0000\n",
      "Epoch 48/100\n",
      "13/13 [==============================] - 0s 2ms/step - loss: 0.0049 - accuracy: 1.0000\n",
      "Epoch 49/100\n",
      "13/13 [==============================] - 0s 2ms/step - loss: 0.0034 - accuracy: 1.0000\n",
      "Epoch 50/100\n",
      "13/13 [==============================] - 0s 2ms/step - loss: 0.0033 - accuracy: 1.0000\n",
      "Epoch 51/100\n",
      "13/13 [==============================] - 0s 1ms/step - loss: 0.0036 - accuracy: 1.0000\n",
      "Epoch 52/100\n",
      "13/13 [==============================] - 0s 2ms/step - loss: 0.0028 - accuracy: 1.0000\n",
      "Epoch 53/100\n",
      "13/13 [==============================] - 0s 2ms/step - loss: 0.0029 - accuracy: 1.0000\n",
      "Epoch 54/100\n",
      "13/13 [==============================] - 0s 2ms/step - loss: 0.0015 - accuracy: 1.0000\n",
      "Epoch 55/100\n",
      "13/13 [==============================] - 0s 2ms/step - loss: 0.0029 - accuracy: 1.0000\n",
      "Epoch 56/100\n",
      "13/13 [==============================] - 0s 2ms/step - loss: 0.0015 - accuracy: 1.0000\n",
      "Epoch 57/100\n",
      "13/13 [==============================] - 0s 2ms/step - loss: 0.0012 - accuracy: 1.0000\n",
      "Epoch 58/100\n",
      "13/13 [==============================] - 0s 2ms/step - loss: 0.0019 - accuracy: 1.0000\n",
      "Epoch 59/100\n",
      "13/13 [==============================] - 0s 2ms/step - loss: 8.5968e-04 - accuracy: 1.0000\n",
      "Epoch 60/100\n",
      "13/13 [==============================] - 0s 2ms/step - loss: 0.0013 - accuracy: 1.0000\n",
      "Epoch 61/100\n",
      "13/13 [==============================] - 0s 1ms/step - loss: 6.5086e-04 - accuracy: 1.0000\n",
      "Epoch 62/100\n",
      "13/13 [==============================] - 0s 2ms/step - loss: 4.7413e-04 - accuracy: 1.0000\n",
      "Epoch 63/100\n",
      "13/13 [==============================] - 0s 1ms/step - loss: 6.6841e-04 - accuracy: 1.0000\n",
      "Epoch 64/100\n",
      "13/13 [==============================] - 0s 1ms/step - loss: 5.8886e-04 - accuracy: 1.0000\n",
      "Epoch 65/100\n",
      "13/13 [==============================] - 0s 2ms/step - loss: 6.5637e-04 - accuracy: 1.0000\n",
      "Epoch 66/100\n",
      "13/13 [==============================] - 0s 2ms/step - loss: 2.9923e-04 - accuracy: 1.0000\n",
      "Epoch 67/100\n",
      "13/13 [==============================] - 0s 2ms/step - loss: 4.7584e-04 - accuracy: 1.0000\n",
      "Epoch 68/100\n",
      "13/13 [==============================] - 0s 2ms/step - loss: 1.9949e-04 - accuracy: 1.0000\n",
      "Epoch 69/100\n",
      "13/13 [==============================] - 0s 2ms/step - loss: 3.3432e-04 - accuracy: 1.0000\n",
      "Epoch 70/100\n",
      "13/13 [==============================] - 0s 2ms/step - loss: 2.1451e-04 - accuracy: 1.0000\n",
      "Epoch 71/100\n",
      "13/13 [==============================] - 0s 2ms/step - loss: 2.2344e-04 - accuracy: 1.0000\n",
      "Epoch 72/100\n",
      "13/13 [==============================] - 0s 2ms/step - loss: 3.3263e-04 - accuracy: 1.0000\n",
      "Epoch 73/100\n",
      "13/13 [==============================] - 0s 2ms/step - loss: 1.4711e-04 - accuracy: 1.0000\n",
      "Epoch 74/100\n",
      "13/13 [==============================] - 0s 2ms/step - loss: 1.5309e-04 - accuracy: 1.0000\n",
      "Epoch 75/100\n",
      "13/13 [==============================] - 0s 2ms/step - loss: 9.5568e-05 - accuracy: 1.0000\n",
      "Epoch 76/100\n",
      "13/13 [==============================] - 0s 2ms/step - loss: 1.2019e-04 - accuracy: 1.0000\n",
      "Epoch 77/100\n",
      "13/13 [==============================] - 0s 2ms/step - loss: 1.1156e-04 - accuracy: 1.0000\n",
      "Epoch 78/100\n",
      "13/13 [==============================] - 0s 2ms/step - loss: 8.0400e-05 - accuracy: 1.0000\n",
      "Epoch 79/100\n",
      "13/13 [==============================] - 0s 2ms/step - loss: 6.2955e-05 - accuracy: 1.0000\n",
      "Epoch 80/100\n",
      "13/13 [==============================] - 0s 2ms/step - loss: 5.0140e-05 - accuracy: 1.0000\n",
      "Epoch 81/100\n",
      "13/13 [==============================] - 0s 2ms/step - loss: 3.5764e-05 - accuracy: 1.0000\n",
      "Epoch 82/100\n",
      "13/13 [==============================] - 0s 2ms/step - loss: 6.0077e-05 - accuracy: 1.0000\n",
      "Epoch 83/100\n",
      "13/13 [==============================] - 0s 2ms/step - loss: 3.0051e-05 - accuracy: 1.0000\n",
      "Epoch 84/100\n",
      "13/13 [==============================] - 0s 2ms/step - loss: 4.2884e-05 - accuracy: 1.0000\n",
      "Epoch 85/100\n",
      "13/13 [==============================] - 0s 1ms/step - loss: 2.7270e-05 - accuracy: 1.0000\n",
      "Epoch 86/100\n",
      "13/13 [==============================] - 0s 2ms/step - loss: 5.3279e-05 - accuracy: 1.0000\n",
      "Epoch 87/100\n",
      "13/13 [==============================] - 0s 2ms/step - loss: 2.2410e-05 - accuracy: 1.0000\n",
      "Epoch 88/100\n",
      "13/13 [==============================] - 0s 1ms/step - loss: 2.4887e-05 - accuracy: 1.0000\n",
      "Epoch 89/100\n",
      "13/13 [==============================] - 0s 2ms/step - loss: 2.0124e-05 - accuracy: 1.0000\n",
      "Epoch 90/100\n",
      "13/13 [==============================] - 0s 2ms/step - loss: 2.6039e-05 - accuracy: 1.0000\n",
      "Epoch 91/100\n",
      "13/13 [==============================] - 0s 1ms/step - loss: 1.6057e-05 - accuracy: 1.0000\n",
      "Epoch 92/100\n",
      "13/13 [==============================] - 0s 2ms/step - loss: 2.7344e-05 - accuracy: 1.0000\n",
      "Epoch 93/100\n",
      "13/13 [==============================] - 0s 2ms/step - loss: 2.1450e-05 - accuracy: 1.0000\n",
      "Epoch 94/100\n",
      "13/13 [==============================] - 0s 2ms/step - loss: 1.0090e-05 - accuracy: 1.0000\n",
      "Epoch 95/100\n",
      "13/13 [==============================] - 0s 2ms/step - loss: 8.3302e-06 - accuracy: 1.0000\n",
      "Epoch 96/100\n",
      "13/13 [==============================] - 0s 2ms/step - loss: 1.1752e-05 - accuracy: 1.0000\n",
      "Epoch 97/100\n",
      "13/13 [==============================] - 0s 3ms/step - loss: 1.1151e-05 - accuracy: 1.0000\n",
      "Epoch 98/100\n",
      "13/13 [==============================] - 0s 3ms/step - loss: 7.5948e-06 - accuracy: 1.0000\n",
      "Epoch 99/100\n",
      "13/13 [==============================] - 0s 2ms/step - loss: 6.5535e-06 - accuracy: 1.0000\n",
      "Epoch 100/100\n",
      "13/13 [==============================] - 0s 2ms/step - loss: 5.8419e-06 - accuracy: 1.0000\n"
     ]
    },
    {
     "data": {
      "text/plain": [
       "Pipeline(steps=[('NeuralNetwork',\n",
       "                 <tensorflow.python.keras.wrappers.scikit_learn.KerasClassifier object at 0x0000021879204DF0>)])"
      ]
     },
     "execution_count": 35,
     "metadata": {},
     "output_type": "execute_result"
    }
   ],
   "source": [
    "bestmodel.fit(XN, dummy_y)"
   ]
  },
  {
   "cell_type": "markdown",
   "metadata": {},
   "source": [
    "# Save the model"
   ]
  },
  {
   "cell_type": "code",
   "execution_count": 36,
   "metadata": {},
   "outputs": [
    {
     "data": {
      "text/plain": [
       "['./data/outputs/sklearn_pipelineDLClassificationAllknowndataFinal.pkl']"
      ]
     },
     "execution_count": 36,
     "metadata": {},
     "output_type": "execute_result"
    }
   ],
   "source": [
    "bm = bestmodel\n",
    "bm.named_steps['NeuralNetwork'].model.save(path + 'DLSubtype_ClassificationHyperoptAllknowndataFinal.h5')\n",
    "bm.named_steps['NeuralNetwork'].model = None\n",
    "joblib.dump(bm, path + 'sklearn_pipelineDLClassificationAllknowndataFinal.pkl')"
   ]
  }
 ],
 "metadata": {
  "kernelspec": {
   "display_name": "myenv",
   "language": "python",
   "name": "myenv"
  },
  "language_info": {
   "codemirror_mode": {
    "name": "ipython",
    "version": 3
   },
   "file_extension": ".py",
   "mimetype": "text/x-python",
   "name": "python",
   "nbconvert_exporter": "python",
   "pygments_lexer": "ipython3",
   "version": "3.8.5"
  }
 },
 "nbformat": 4,
 "nbformat_minor": 4
}
