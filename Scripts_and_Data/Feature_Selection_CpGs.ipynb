{
 "cells": [
  {
   "cell_type": "code",
   "execution_count": 1,
   "id": "strategic-american",
   "metadata": {},
   "outputs": [],
   "source": [
    "from Feature_Selection import *\n",
    "import pandas as pd\n",
    "import numpy as np\n",
    "from sklearn.model_selection import train_test_split\n",
    "\n",
    "from sklearn.impute import SimpleImputer\n",
    "from sklearn.model_selection import KFold\n",
    "\n",
    "import joblib\n",
    "import time"
   ]
  },
  {
   "cell_type": "code",
   "execution_count": 2,
   "id": "upset-archive",
   "metadata": {},
   "outputs": [],
   "source": [
    "X = joblib.load('./AML_data/meth.pkl')\n",
    "\n",
    "phenodf = joblib.load('./AML_data/pheno.pkl')"
   ]
  },
  {
   "cell_type": "code",
   "execution_count": 3,
   "id": "initial-procedure",
   "metadata": {},
   "outputs": [
    {
     "data": {
      "text/html": [
       "<div>\n",
       "<style scoped>\n",
       "    .dataframe tbody tr th:only-of-type {\n",
       "        vertical-align: middle;\n",
       "    }\n",
       "\n",
       "    .dataframe tbody tr th {\n",
       "        vertical-align: top;\n",
       "    }\n",
       "\n",
       "    .dataframe thead th {\n",
       "        text-align: right;\n",
       "    }\n",
       "</style>\n",
       "<table border=\"1\" class=\"dataframe\">\n",
       "  <thead>\n",
       "    <tr style=\"text-align: right;\">\n",
       "      <th></th>\n",
       "      <th>sample.type</th>\n",
       "      <th>FAB</th>\n",
       "      <th>genotype</th>\n",
       "      <th>relapse</th>\n",
       "    </tr>\n",
       "    <tr>\n",
       "      <th>public_id</th>\n",
       "      <th></th>\n",
       "      <th></th>\n",
       "      <th></th>\n",
       "      <th></th>\n",
       "    </tr>\n",
       "  </thead>\n",
       "  <tbody>\n",
       "    <tr>\n",
       "      <th>AML_001</th>\n",
       "      <td>diagnostic</td>\n",
       "      <td>M2</td>\n",
       "      <td>normal</td>\n",
       "      <td>True</td>\n",
       "    </tr>\n",
       "    <tr>\n",
       "      <th>AML_002</th>\n",
       "      <td>diagnostic</td>\n",
       "      <td>M5</td>\n",
       "      <td>t(11;19)</td>\n",
       "      <td>True</td>\n",
       "    </tr>\n",
       "    <tr>\n",
       "      <th>AML_003</th>\n",
       "      <td>diagnostic</td>\n",
       "      <td>M1</td>\n",
       "      <td>normal</td>\n",
       "      <td>False</td>\n",
       "    </tr>\n",
       "    <tr>\n",
       "      <th>AML_004_r</th>\n",
       "      <td>relapse</td>\n",
       "      <td>M5</td>\n",
       "      <td>NaN</td>\n",
       "      <td>True</td>\n",
       "    </tr>\n",
       "    <tr>\n",
       "      <th>AML_005</th>\n",
       "      <td>diagnostic</td>\n",
       "      <td>M2</td>\n",
       "      <td>mono 7</td>\n",
       "      <td>True</td>\n",
       "    </tr>\n",
       "    <tr>\n",
       "      <th>...</th>\n",
       "      <td>...</td>\n",
       "      <td>...</td>\n",
       "      <td>...</td>\n",
       "      <td>...</td>\n",
       "    </tr>\n",
       "    <tr>\n",
       "      <th>AML_122</th>\n",
       "      <td>diagnostic</td>\n",
       "      <td>M2</td>\n",
       "      <td>normal</td>\n",
       "      <td>False</td>\n",
       "    </tr>\n",
       "    <tr>\n",
       "      <th>AML_033</th>\n",
       "      <td>diagnostic</td>\n",
       "      <td>M6</td>\n",
       "      <td>normal</td>\n",
       "      <td>True</td>\n",
       "    </tr>\n",
       "    <tr>\n",
       "      <th>AML_123</th>\n",
       "      <td>diagnostic</td>\n",
       "      <td>M4</td>\n",
       "      <td>inv(16)</td>\n",
       "      <td>False</td>\n",
       "    </tr>\n",
       "    <tr>\n",
       "      <th>AML_124</th>\n",
       "      <td>diagnostic</td>\n",
       "      <td>M2</td>\n",
       "      <td>normal</td>\n",
       "      <td>False</td>\n",
       "    </tr>\n",
       "    <tr>\n",
       "      <th>AML_125</th>\n",
       "      <td>diagnostic</td>\n",
       "      <td>M5</td>\n",
       "      <td>mono 7</td>\n",
       "      <td>True</td>\n",
       "    </tr>\n",
       "  </tbody>\n",
       "</table>\n",
       "<p>142 rows × 4 columns</p>\n",
       "</div>"
      ],
      "text/plain": [
       "          sample.type FAB  genotype relapse\n",
       "public_id                                  \n",
       "AML_001    diagnostic  M2    normal    True\n",
       "AML_002    diagnostic  M5  t(11;19)    True\n",
       "AML_003    diagnostic  M1    normal   False\n",
       "AML_004_r     relapse  M5       NaN    True\n",
       "AML_005    diagnostic  M2    mono 7    True\n",
       "...               ...  ..       ...     ...\n",
       "AML_122    diagnostic  M2    normal   False\n",
       "AML_033    diagnostic  M6    normal    True\n",
       "AML_123    diagnostic  M4   inv(16)   False\n",
       "AML_124    diagnostic  M2    normal   False\n",
       "AML_125    diagnostic  M5    mono 7    True\n",
       "\n",
       "[142 rows x 4 columns]"
      ]
     },
     "execution_count": 3,
     "metadata": {},
     "output_type": "execute_result"
    }
   ],
   "source": [
    "phenodf"
   ]
  },
  {
   "cell_type": "code",
   "execution_count": 4,
   "id": "hearing-difficulty",
   "metadata": {},
   "outputs": [],
   "source": [
    "# Create a new column for genotypes to merge some groups together\n",
    "\n",
    "# Nas, No result and other will form one group\n",
    "mll = ['other 11q23/MLL', 't(9;11)', 't(10;11)','t(11;19)']\n",
    "other = ['normal', 'mono 7', 'inv(16)','other clon abn', '3q21q26', 't(8;21)', 'sole+8', 't(15;17)']"
   ]
  },
  {
   "cell_type": "code",
   "execution_count": 5,
   "id": "pediatric-cisco",
   "metadata": {},
   "outputs": [],
   "source": [
    "finalgenotype = []\n",
    "\n",
    "for data in phenodf.genotype:\n",
    "\n",
    "    if data in mll:\n",
    "        finalgenotype.append('MLL rearranged')\n",
    "        \n",
    "    elif data == 'no result':\n",
    "        finalgenotype.append('No result')\n",
    "        \n",
    "    elif data in other:\n",
    "        finalgenotype.append(data)\n",
    "        \n",
    "    else:\n",
    "        finalgenotype.append('No result')\n",
    "        "
   ]
  },
  {
   "cell_type": "code",
   "execution_count": 6,
   "id": "smooth-leadership",
   "metadata": {},
   "outputs": [],
   "source": [
    "phenodf['finalgenotype'] = finalgenotype"
   ]
  },
  {
   "cell_type": "code",
   "execution_count": 7,
   "id": "automotive-rough",
   "metadata": {},
   "outputs": [
    {
     "data": {
      "text/html": [
       "<div>\n",
       "<style scoped>\n",
       "    .dataframe tbody tr th:only-of-type {\n",
       "        vertical-align: middle;\n",
       "    }\n",
       "\n",
       "    .dataframe tbody tr th {\n",
       "        vertical-align: top;\n",
       "    }\n",
       "\n",
       "    .dataframe thead th {\n",
       "        text-align: right;\n",
       "    }\n",
       "</style>\n",
       "<table border=\"1\" class=\"dataframe\">\n",
       "  <thead>\n",
       "    <tr style=\"text-align: right;\">\n",
       "      <th></th>\n",
       "      <th>sample.type</th>\n",
       "      <th>FAB</th>\n",
       "      <th>genotype</th>\n",
       "      <th>relapse</th>\n",
       "      <th>finalgenotype</th>\n",
       "    </tr>\n",
       "    <tr>\n",
       "      <th>public_id</th>\n",
       "      <th></th>\n",
       "      <th></th>\n",
       "      <th></th>\n",
       "      <th></th>\n",
       "      <th></th>\n",
       "    </tr>\n",
       "  </thead>\n",
       "  <tbody>\n",
       "    <tr>\n",
       "      <th>AML_001</th>\n",
       "      <td>diagnostic</td>\n",
       "      <td>M2</td>\n",
       "      <td>normal</td>\n",
       "      <td>True</td>\n",
       "      <td>normal</td>\n",
       "    </tr>\n",
       "    <tr>\n",
       "      <th>AML_002</th>\n",
       "      <td>diagnostic</td>\n",
       "      <td>M5</td>\n",
       "      <td>t(11;19)</td>\n",
       "      <td>True</td>\n",
       "      <td>MLL rearranged</td>\n",
       "    </tr>\n",
       "    <tr>\n",
       "      <th>AML_003</th>\n",
       "      <td>diagnostic</td>\n",
       "      <td>M1</td>\n",
       "      <td>normal</td>\n",
       "      <td>False</td>\n",
       "      <td>normal</td>\n",
       "    </tr>\n",
       "    <tr>\n",
       "      <th>AML_004_r</th>\n",
       "      <td>relapse</td>\n",
       "      <td>M5</td>\n",
       "      <td>NaN</td>\n",
       "      <td>True</td>\n",
       "      <td>No result</td>\n",
       "    </tr>\n",
       "    <tr>\n",
       "      <th>AML_005</th>\n",
       "      <td>diagnostic</td>\n",
       "      <td>M2</td>\n",
       "      <td>mono 7</td>\n",
       "      <td>True</td>\n",
       "      <td>mono 7</td>\n",
       "    </tr>\n",
       "    <tr>\n",
       "      <th>...</th>\n",
       "      <td>...</td>\n",
       "      <td>...</td>\n",
       "      <td>...</td>\n",
       "      <td>...</td>\n",
       "      <td>...</td>\n",
       "    </tr>\n",
       "    <tr>\n",
       "      <th>AML_122</th>\n",
       "      <td>diagnostic</td>\n",
       "      <td>M2</td>\n",
       "      <td>normal</td>\n",
       "      <td>False</td>\n",
       "      <td>normal</td>\n",
       "    </tr>\n",
       "    <tr>\n",
       "      <th>AML_033</th>\n",
       "      <td>diagnostic</td>\n",
       "      <td>M6</td>\n",
       "      <td>normal</td>\n",
       "      <td>True</td>\n",
       "      <td>normal</td>\n",
       "    </tr>\n",
       "    <tr>\n",
       "      <th>AML_123</th>\n",
       "      <td>diagnostic</td>\n",
       "      <td>M4</td>\n",
       "      <td>inv(16)</td>\n",
       "      <td>False</td>\n",
       "      <td>inv(16)</td>\n",
       "    </tr>\n",
       "    <tr>\n",
       "      <th>AML_124</th>\n",
       "      <td>diagnostic</td>\n",
       "      <td>M2</td>\n",
       "      <td>normal</td>\n",
       "      <td>False</td>\n",
       "      <td>normal</td>\n",
       "    </tr>\n",
       "    <tr>\n",
       "      <th>AML_125</th>\n",
       "      <td>diagnostic</td>\n",
       "      <td>M5</td>\n",
       "      <td>mono 7</td>\n",
       "      <td>True</td>\n",
       "      <td>mono 7</td>\n",
       "    </tr>\n",
       "  </tbody>\n",
       "</table>\n",
       "<p>142 rows × 5 columns</p>\n",
       "</div>"
      ],
      "text/plain": [
       "          sample.type FAB  genotype relapse   finalgenotype\n",
       "public_id                                                  \n",
       "AML_001    diagnostic  M2    normal    True          normal\n",
       "AML_002    diagnostic  M5  t(11;19)    True  MLL rearranged\n",
       "AML_003    diagnostic  M1    normal   False          normal\n",
       "AML_004_r     relapse  M5       NaN    True       No result\n",
       "AML_005    diagnostic  M2    mono 7    True          mono 7\n",
       "...               ...  ..       ...     ...             ...\n",
       "AML_122    diagnostic  M2    normal   False          normal\n",
       "AML_033    diagnostic  M6    normal    True          normal\n",
       "AML_123    diagnostic  M4   inv(16)   False         inv(16)\n",
       "AML_124    diagnostic  M2    normal   False          normal\n",
       "AML_125    diagnostic  M5    mono 7    True          mono 7\n",
       "\n",
       "[142 rows x 5 columns]"
      ]
     },
     "execution_count": 7,
     "metadata": {},
     "output_type": "execute_result"
    }
   ],
   "source": [
    "phenodf"
   ]
  },
  {
   "cell_type": "code",
   "execution_count": 8,
   "id": "fatty-adjustment",
   "metadata": {},
   "outputs": [
    {
     "data": {
      "text/plain": [
       "(142, 406830)"
      ]
     },
     "execution_count": 8,
     "metadata": {},
     "output_type": "execute_result"
    }
   ],
   "source": [
    "X.shape"
   ]
  },
  {
   "cell_type": "code",
   "execution_count": 9,
   "id": "liked-halifax",
   "metadata": {},
   "outputs": [],
   "source": [
    "# Filter out the 43 undefined samples"
   ]
  },
  {
   "cell_type": "code",
   "execution_count": 10,
   "id": "blocked-motel",
   "metadata": {},
   "outputs": [],
   "source": [
    "phenodf = phenodf[~phenodf['finalgenotype'].isin(['No result', 'other clon abn'])]"
   ]
  },
  {
   "cell_type": "code",
   "execution_count": 11,
   "id": "hearing-lesson",
   "metadata": {},
   "outputs": [],
   "source": [
    "X = X[X.index.get_level_values(1).isin(phenodf.index)]"
   ]
  },
  {
   "cell_type": "code",
   "execution_count": 12,
   "id": "strange-addition",
   "metadata": {},
   "outputs": [],
   "source": [
    "# Create cross a validation loop"
   ]
  },
  {
   "cell_type": "code",
   "execution_count": 13,
   "id": "known-grenada",
   "metadata": {},
   "outputs": [],
   "source": [
    "cv_outer = KFold(n_splits=5, shuffle=True, random_state=1)"
   ]
  },
  {
   "cell_type": "code",
   "execution_count": 14,
   "id": "understood-syndicate",
   "metadata": {},
   "outputs": [
    {
     "name": "stdout",
     "output_type": "stream",
     "text": [
      "---------------------------------\n",
      "---------------------------------\n",
      "Fold 1\n",
      "---------------------------\n",
      "515 features have been selected after feature selection for fold 1\n",
      "---------------------------------------------------------------------------\n",
      "296 features have been selected after PCA-based FS for fold 1\n",
      "240 features have been selected after LVHC selection for fold 1\n",
      "---------------------------------\n",
      "---------------------------------\n",
      "Fold 2\n",
      "---------------------------\n",
      "507 features have been selected after feature selection for fold 2\n",
      "---------------------------------------------------------------------------\n",
      "299 features have been selected after PCA-based FS for fold 2\n",
      "225 features have been selected after LVHC selection for fold 2\n",
      "---------------------------------\n",
      "---------------------------------\n",
      "Fold 3\n",
      "---------------------------\n",
      "470 features have been selected after feature selection for fold 3\n",
      "---------------------------------------------------------------------------\n",
      "295 features have been selected after PCA-based FS for fold 3\n",
      "201 features have been selected after LVHC selection for fold 3\n",
      "---------------------------------\n",
      "---------------------------------\n",
      "Fold 4\n",
      "---------------------------\n",
      "530 features have been selected after feature selection for fold 4\n",
      "---------------------------------------------------------------------------\n",
      "295 features have been selected after PCA-based FS for fold 4\n",
      "256 features have been selected after LVHC selection for fold 4\n",
      "---------------------------------\n",
      "---------------------------------\n",
      "Fold 5\n",
      "---------------------------\n",
      "466 features have been selected after feature selection for fold 5\n",
      "---------------------------------------------------------------------------\n",
      "288 features have been selected after PCA-based FS for fold 5\n",
      "198 features have been selected after LVHC selection for fold 5\n"
     ]
    }
   ],
   "source": [
    "indices_list = []\n",
    "\n",
    "pca_indices = []\n",
    "lvhc_indices = []\n",
    "i = 1\n",
    "for train_ix, val_ix in cv_outer.split(X):\n",
    "    print('---------------------------------')\n",
    "    print('---------------------------------')\n",
    "    \n",
    "    print('Fold {}'.format(i))\n",
    "    print('---------------------------')\n",
    "    # split data\n",
    "    X_train, X_val = X.iloc[train_ix, :], X.iloc[val_ix, :]\n",
    "    \n",
    "\n",
    "    #Imputation of missing values\n",
    "    #Impute inputs\n",
    "    imp = SimpleImputer(missing_values=np.nan, strategy='median')\n",
    "    imp.fit(X_train)\n",
    "    X_train = pd.DataFrame(imp.transform(X_train), columns = X_train.columns)\n",
    "    X_val = pd.DataFrame(imp.transform(X_val), columns = X_val.columns)\n",
    "\n",
    "    \n",
    "    # Double feature selection on the train set and then apply the indices to both datasets\n",
    "    # PCA contribution selection\n",
    "    pcaindices = PC_contribution(X_train, 15, 10) # 10 x 2 CpGs per Component for first 15 Components\n",
    "\n",
    "    # Low variance high correlation selection\n",
    "\n",
    "    X_tr, X_v = var_corr_sel(X_train, X_val, 0.1, 0.7) #it will remove low variance and high correlated probes\n",
    "    lvhcindices =  X_tr.columns.to_list()\n",
    "\n",
    "    unionindices = sorted(set(pcaindices).union(lvhcindices))\n",
    "    print('{} features have been selected after feature selection for fold {}'.format(len(unionindices), i))\n",
    "    print('---------------------------------------------------------------------------')\n",
    "    print('{} features have been selected after PCA-based FS for fold {}'.format(len(pcaindices), i))\n",
    "    print('{} features have been selected after LVHC selection for fold {}'.format(len(lvhcindices), i))\n",
    "    X_train = X_train[unionindices]\n",
    "    X_val = X_val[unionindices]\n",
    "\n",
    "    indices_list.extend(unionindices) # extend this list to get all unique probes during all folds\n",
    "    pca_indices.extend(pcaindices)\n",
    "    lvhc_indices.extend(lvhcindices)\n",
    "    i += 1   "
   ]
  },
  {
   "cell_type": "code",
   "execution_count": 15,
   "id": "found-earthquake",
   "metadata": {},
   "outputs": [],
   "source": [
    "finalindices = np.unique(indices_list)"
   ]
  },
  {
   "cell_type": "code",
   "execution_count": 16,
   "id": "raised-explorer",
   "metadata": {},
   "outputs": [
    {
     "data": {
      "text/plain": [
       "1300"
      ]
     },
     "execution_count": 16,
     "metadata": {},
     "output_type": "execute_result"
    }
   ],
   "source": [
    "len(finalindices)"
   ]
  },
  {
   "cell_type": "code",
   "execution_count": 17,
   "id": "imported-barrel",
   "metadata": {},
   "outputs": [
    {
     "data": {
      "text/plain": [
       "955"
      ]
     },
     "execution_count": 17,
     "metadata": {},
     "output_type": "execute_result"
    }
   ],
   "source": [
    "len(np.unique(pca_indices))"
   ]
  },
  {
   "cell_type": "code",
   "execution_count": 18,
   "id": "democratic-richmond",
   "metadata": {},
   "outputs": [
    {
     "data": {
      "text/plain": [
       "456"
      ]
     },
     "execution_count": 18,
     "metadata": {},
     "output_type": "execute_result"
    }
   ],
   "source": [
    "len(np.unique(lvhc_indices))"
   ]
  },
  {
   "cell_type": "code",
   "execution_count": 19,
   "id": "improved-indianapolis",
   "metadata": {},
   "outputs": [
    {
     "name": "stdout",
     "output_type": "stream",
     "text": [
      "1300\n"
     ]
    }
   ],
   "source": [
    "print(len(sorted(set(np.unique(pca_indices)).union(np.unique(lvhc_indices)))))"
   ]
  },
  {
   "cell_type": "code",
   "execution_count": 20,
   "id": "musical-arabic",
   "metadata": {},
   "outputs": [
    {
     "data": {
      "text/plain": [
       "['unionindices.pkl']"
      ]
     },
     "execution_count": 20,
     "metadata": {},
     "output_type": "execute_result"
    }
   ],
   "source": [
    "joblib.dump(finalindices, './AML_data/unionindices.pkl') "
   ]
  }
 ],
 "metadata": {
  "kernelspec": {
   "display_name": "myenv",
   "language": "python",
   "name": "myenv"
  },
  "language_info": {
   "codemirror_mode": {
    "name": "ipython",
    "version": 3
   },
   "file_extension": ".py",
   "mimetype": "text/x-python",
   "name": "python",
   "nbconvert_exporter": "python",
   "pygments_lexer": "ipython3",
   "version": "3.8.5"
  }
 },
 "nbformat": 4,
 "nbformat_minor": 5
}
